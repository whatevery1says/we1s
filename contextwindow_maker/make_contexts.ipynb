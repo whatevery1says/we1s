{
 "cells": [
  {
   "cell_type": "code",
   "execution_count": 1,
   "metadata": {
    "collapsed": true
   },
   "outputs": [],
   "source": [
    "from articles import Articles\n",
    "import semanticanalysis as sa\n",
    "import spacy\n",
    "import scipy\n",
    "import numpy as np\n",
    "import time"
   ]
  },
  {
   "cell_type": "code",
   "execution_count": 2,
   "metadata": {},
   "outputs": [
    {
     "name": "stdout",
     "output_type": "stream",
     "text": [
      "window size 5 TEST DATA SIZE 10\n"
     ]
    }
   ],
   "source": [
    "# settings\n",
    "WINDOW_SIZE = 5\n",
    "TESTDATA_SIZE = 10\n",
    "PMI_ALPHA = 1.0\n",
    "print('window size', WINDOW_SIZE, 'TEST DATA SIZE', TESTDATA_SIZE)"
   ]
  },
  {
   "cell_type": "markdown",
   "metadata": {},
   "source": [
    "# Get Test Dataset"
   ]
  },
  {
   "cell_type": "code",
   "execution_count": 3,
   "metadata": {},
   "outputs": [
    {
     "name": "stdout",
     "output_type": "stream",
     "text": [
      "getting test data\n"
     ]
    }
   ],
   "source": [
    "print('getting test data')\n",
    "t0 = time.time()\n",
    "docs = Articles('articles_tokenized.db')"
   ]
  },
  {
   "cell_type": "code",
   "execution_count": 4,
   "metadata": {},
   "outputs": [
    {
     "data": {
      "text/html": [
       "<div>\n",
       "<style>\n",
       "    .dataframe thead tr:only-child th {\n",
       "        text-align: right;\n",
       "    }\n",
       "\n",
       "    .dataframe thead th {\n",
       "        text-align: left;\n",
       "    }\n",
       "\n",
       "    .dataframe tbody tr th {\n",
       "        vertical-align: top;\n",
       "    }\n",
       "</style>\n",
       "<table border=\"1\" class=\"dataframe\">\n",
       "  <thead>\n",
       "    <tr style=\"text-align: right;\">\n",
       "      <th></th>\n",
       "      <th>id</th>\n",
       "      <th>src</th>\n",
       "      <th>date</th>\n",
       "      <th>num</th>\n",
       "      <th>fname</th>\n",
       "      <th>text</th>\n",
       "      <th>sents</th>\n",
       "    </tr>\n",
       "  </thead>\n",
       "  <tbody>\n",
       "    <tr>\n",
       "      <th>0</th>\n",
       "      <td>1</td>\n",
       "      <td>guard</td>\n",
       "      <td>1315983600</td>\n",
       "      <td>10</td>\n",
       "      <td>guardian_140911_10.txt</td>\n",
       "      <td>\\r\\n\\r\\n\\r\\n                                  ...</td>\n",
       "      <td>[[guardian.com, september], [wednesday, will, ...</td>\n",
       "    </tr>\n",
       "  </tbody>\n",
       "</table>\n",
       "</div>"
      ],
      "text/plain": [
       "   id    src        date  num                   fname  \\\n",
       "0   1  guard  1315983600   10  guardian_140911_10.txt   \n",
       "\n",
       "                                                text  \\\n",
       "0  \\r\\n\\r\\n\\r\\n                                  ...   \n",
       "\n",
       "                                               sents  \n",
       "0  [[guardian.com, september], [wednesday, will, ...  "
      ]
     },
     "execution_count": 4,
     "metadata": {},
     "output_type": "execute_result"
    }
   ],
   "source": [
    "docs.getdf(limit=1)"
   ]
  },
  {
   "cell_type": "code",
   "execution_count": 5,
   "metadata": {},
   "outputs": [
    {
     "name": "stdout",
     "output_type": "stream",
     "text": [
      "took 0 minutes\n"
     ]
    }
   ],
   "source": [
    "doctexts = list(docs.getdf(sel=['text',], limit=TESTDATA_SIZE)['text'])\n",
    "print('took', int((time.time()-t0)/60), 'minutes')\n"
   ]
  },
  {
   "cell_type": "markdown",
   "metadata": {},
   "source": [
    "# Parse with spacy and build Gensim dictionary object"
   ]
  },
  {
   "cell_type": "code",
   "execution_count": 6,
   "metadata": {},
   "outputs": [
    {
     "name": "stdout",
     "output_type": "stream",
     "text": [
      "making gensim dictionary\n"
     ]
    }
   ],
   "source": [
    "print('making gensim dictionary')\n",
    "t0 = time.time()\n",
    "\n",
    "def parsethread(doctext,nlp):\n",
    "    parsed = nlp(doctext)\n",
    "    return [w.text for w in parsed if w.is_alpha and not w.is_digit]\n",
    "        \n",
    "nlp = spacy.load('en', disable=['ner', 'tagger', 'parser'])\n",
    "sents = sa.parmap(parsethread, doctexts,nlp, workers=10)"
   ]
  },
  {
   "cell_type": "code",
   "execution_count": 7,
   "metadata": {},
   "outputs": [
    {
     "name": "stdout",
     "output_type": "stream",
     "text": [
      "took 0 minutes\n"
     ]
    },
    {
     "data": {
      "text/plain": [
       "3176"
      ]
     },
     "execution_count": 7,
     "metadata": {},
     "output_type": "execute_result"
    }
   ],
   "source": [
    "import math\n",
    "from multiprocessing import Pool\n",
    "import gensim\n",
    "\n",
    "def dictbuilder_thread(docs):\n",
    "    return gensim.corpora.dictionary.Dictionary(docs)\n",
    "\n",
    "def bow2dict(bowtexts, min_tf=2, ngrams=1, workers=8, verbose=False):\n",
    "    chunksize = math.ceil(len(bowtexts)/workers)\n",
    "    #dictbuilder_thread = lambda docs: gensim.corpora.dictionary.Dictionary(docs)\n",
    "    with Pool(workers) as p:\n",
    "        dcts = p.map(dictbuilder_thread, [bowtexts[i*chunksize:(i+1)*chunksize] for i in range(workers)])\n",
    "    \n",
    "    if verbose: print('merging dictionaries')\n",
    "    # merge them back together\n",
    "    dct = dcts[0]\n",
    "    for i in range(1,len(dcts)):\n",
    "        dct.merge_with(dcts[i])\n",
    "    \n",
    "    #dct.filter_extremes(no_below=5, no_above=0.5, keep_n=100000, keep_tokens=None)\n",
    "    dct.filter_extremes(no_below=min_tf, no_above=1.0, keep_n=10000000000)\n",
    "    \n",
    "    return dct\n",
    "\n",
    "# (does this in parallel bc docs are kind of big)\n",
    "dct = bow2dict(sents, min_tf=100, ngrams=1, workers=8, verbose=False)\n",
    "print('took', int((time.time()-t0)/60), 'minutes')\n",
    "len(dct)"
   ]
  },
  {
   "cell_type": "markdown",
   "metadata": {},
   "source": [
    "## Break Up Docs/Sents Into Context Windows\n",
    "_sents_ is a list of document tokens as strings, _dct_ is a [gensim dictionary object](https://radimrehurek.com/gensim/corpora/dictionary.html)."
   ]
  },
  {
   "cell_type": "code",
   "execution_count": 8,
   "metadata": {},
   "outputs": [
    {
     "name": "stdout",
     "output_type": "stream",
     "text": [
      "making context windows\n",
      "took 0 minutes\n"
     ]
    },
    {
     "data": {
      "text/plain": [
       "['September',\n",
       " 'Wednesday',\n",
       " 'Will',\n",
       " 'the',\n",
       " 'eurozone',\n",
       " 'crisis',\n",
       " 'bring',\n",
       " 'Europe',\n",
       " 'together',\n",
       " 'or',\n",
       " 'tear']"
      ]
     },
     "execution_count": 8,
     "metadata": {},
     "output_type": "execute_result"
    }
   ],
   "source": [
    "print('making context windows')\n",
    "t0 = time.time()\n",
    "\n",
    "def getcontexts(sent,argdata):\n",
    "    win, dct = argdata[0], argdata[1]\n",
    "    sent = [w for w in sent if w in dct.token2id.keys()]\n",
    "    contexts = list()\n",
    "    words = list()\n",
    "    for i in range(len(sent)):\n",
    "    #for i in range(win,len(sent)-1-win):\n",
    "        words.append(sent[i])\n",
    "        cont = list()\n",
    "        for j in range(max(0,i-win),min(len(sent),i+win+1)):\n",
    "            cont.append(sent[j])\n",
    "        contexts.append(cont)\n",
    "    return [(w,c) for w,c in zip(words, contexts)]\n",
    "    \n",
    "contexts = [ct for cts in sa.parmap(getcontexts, sents, (WINDOW_SIZE,dct)) for ct in cts]\n",
    "#contexts = [ct for s in sents for ct in getcontexts(s,WINDOW_SIZE)]\n",
    "fullcontexts = [cont for t,cont in contexts if len(cont) == WINDOW_SIZE*2+1]\n",
    "print('took', int((time.time()-t0)/60), 'minutes')\n",
    "\n",
    "fullcontexts[0]"
   ]
  },
  {
   "cell_type": "markdown",
   "metadata": {},
   "source": [
    "# Save Contexts as Matrix for Word2Vec"
   ]
  },
  {
   "cell_type": "code",
   "execution_count": 9,
   "metadata": {},
   "outputs": [
    {
     "name": "stdout",
     "output_type": "stream",
     "text": [
      "saving contexts as matrix for word2vec\n"
     ]
    }
   ],
   "source": [
    "print('saving contexts as matrix for word2vec')\n",
    "t0 = time.time()\n",
    "\n",
    "# save context windows as matrix\n",
    "# for w2v need to include only contexts of window size (omit edge cases - beginning and ends of sents)\n",
    "import pickle\n",
    "contextmat = np.array([[dct.token2id[w] for w in cont] for t,cont in contexts if len(cont) == WINDOW_SIZE*2+1])\n",
    "targetwords = np.array([dct.token2id[t] for t,cont in contexts if len(cont) == WINDOW_SIZE*2+1])\n",
    "with open('contexdata.pic', 'wb') as f:\n",
    "    pickle.dump(dict(contextmat=contextmat, targetwords=targetwords, id2token={i:t for t,i in dct.token2id.items()}), f)"
   ]
  },
  {
   "cell_type": "code",
   "execution_count": 10,
   "metadata": {},
   "outputs": [
    {
     "name": "stdout",
     "output_type": "stream",
     "text": [
      "took 0 minutes\n"
     ]
    },
    {
     "data": {
      "text/plain": [
       "((11827, 11), (11827,), 3176)"
      ]
     },
     "execution_count": 10,
     "metadata": {},
     "output_type": "execute_result"
    }
   ],
   "source": [
    "with open('contexdata.pic', 'rb') as f:\n",
    "    dat = pickle.load(f)\n",
    "print('took', int((time.time()-t0)/60), 'minutes')\n",
    "dat['contextmat'].shape, dat['targetwords'].shape, len(dat['id2token'])\n"
   ]
  },
  {
   "cell_type": "markdown",
   "metadata": {},
   "source": [
    "# Make PMI Matrix"
   ]
  },
  {
   "cell_type": "code",
   "execution_count": 11,
   "metadata": {},
   "outputs": [
    {
     "name": "stdout",
     "output_type": "stream",
     "text": [
      "making context-word matrix\n",
      "0\n",
      "10000\n",
      "took 0 minutes\n"
     ]
    },
    {
     "data": {
      "text/plain": [
       "(11827, 3176)"
      ]
     },
     "execution_count": 11,
     "metadata": {},
     "output_type": "execute_result"
    }
   ],
   "source": [
    "print('making context-word matrix')\n",
    "t0 = time.time()\n",
    "\n",
    "def context2cwm(contexts,dct):\n",
    "    C = scipy.sparse.lil_matrix((len(contexts),len(dct)), dtype=np.float64, copy=False)\n",
    "    #dok_matrix((5, 5), dtype=np.float32)\n",
    "    for i,cont in enumerate(contexts):\n",
    "        if i % 10000 == 0: print(i)\n",
    "        for w in cont:\n",
    "            C[i,dct.token2id[w]] += 1\n",
    "    return C\n",
    "\n",
    "# Make content-word matrix (<num contexts> X <vocab size>)\n",
    "#fullcontexts = [cont for t,cont in contexts if len(cont) == WINDOW_SIZE*2+1]\n",
    "C = context2cwm(fullcontexts,dct)\n",
    "print('took', int((time.time()-t0)/60), 'minutes')\n",
    "C.shape"
   ]
  },
  {
   "cell_type": "code",
   "execution_count": 12,
   "metadata": {},
   "outputs": [
    {
     "name": "stdout",
     "output_type": "stream",
     "text": [
      "making pmi matrix\n",
      "making pcw\n",
      "making pmi\n",
      "took 0 minutes\n"
     ]
    },
    {
     "data": {
      "text/plain": [
       "(11827, 3176)"
      ]
     },
     "execution_count": 12,
     "metadata": {},
     "output_type": "execute_result"
    }
   ],
   "source": [
    "print('making pmi matrix')\n",
    "t0 = time.time()\n",
    "\n",
    "def cwm2pmi(C,a=1):\n",
    "    print('making pcw')\n",
    "    pcw = C/C.sum().sum()\n",
    "    pw = pcw.sum(axis=0)\n",
    "    pc = pcw.sum(axis=1)*a\n",
    "    \n",
    "    print('making pmi')\n",
    "    PMI = pcw/(pc.dot(pw))\n",
    "\n",
    "    return PMI\n",
    "\n",
    "C = scipy.sparse.csc_matrix(C)\n",
    "pmi = cwm2pmi(C,PMI_ALPHA)\n",
    "print('took', int((time.time()-t0)/60), 'minutes')\n",
    "pmi.shape"
   ]
  },
  {
   "cell_type": "code",
   "execution_count": 13,
   "metadata": {
    "scrolled": true
   },
   "outputs": [
    {
     "data": {
      "text/plain": [
       "(11827, 1)"
      ]
     },
     "execution_count": 13,
     "metadata": {},
     "output_type": "execute_result"
    }
   ],
   "source": [
    "pmi[:,dct.token2id['the']].shape"
   ]
  },
  {
   "cell_type": "code",
   "execution_count": 14,
   "metadata": {},
   "outputs": [
    {
     "name": "stdout",
     "output_type": "stream",
     "text": [
      "making svd\n",
      "took 0 minutes\n"
     ]
    }
   ],
   "source": [
    "print('making svd')\n",
    "t0 = time.time()\n",
    "u, s, vt = scipy.sparse.linalg.svds(pmi.T, k=300, return_singular_vectors=True)\n",
    "print('took', int((time.time()-t0)/60), 'minutes')\n"
   ]
  },
  {
   "cell_type": "code",
   "execution_count": 15,
   "metadata": {
    "collapsed": true
   },
   "outputs": [],
   "source": [
    "with open('pmidata.pic', 'wb') as f:\n",
    "    pickle.dump(dict(vt=vt,u=u,s=s), f)"
   ]
  }
 ],
 "metadata": {
  "kernelspec": {
   "display_name": "Python 3",
   "language": "python",
   "name": "python3"
  },
  "language_info": {
   "codemirror_mode": {
    "name": "ipython",
    "version": 3
   },
   "file_extension": ".py",
   "mimetype": "text/x-python",
   "name": "python",
   "nbconvert_exporter": "python",
   "pygments_lexer": "ipython3",
   "version": "3.6.0"
  }
 },
 "nbformat": 4,
 "nbformat_minor": 2
}
